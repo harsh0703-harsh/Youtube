{
 "cells": [
  {
   "cell_type": "markdown",
   "metadata": {},
   "source": [
    "# Topic\n",
    "# If , elif, else condition , Type casting , len() , Nested if else"
   ]
  },
  {
   "cell_type": "markdown",
   "metadata": {},
   "source": [
    "### Question : When we should use conditions."
   ]
  },
  {
   "cell_type": "markdown",
   "metadata": {},
   "source": [
    "### Question : Let's take a number from the user then we have to know that number is even or odd. So we can write a condition that number is divided by 2 then it is even and if it not divided by 2 then it is odd number "
   ]
  },
  {
   "cell_type": "markdown",
   "metadata": {},
   "source": [
    "### For taking a number from user we have to use input() function. But remember one thing this function always take a input as a string so we have to typecast it into integer to solve the question"
   ]
  },
  {
   "cell_type": "code",
   "execution_count": 8,
   "metadata": {},
   "outputs": [
    {
     "name": "stdout",
     "output_type": "stream",
     "text": [
      "4\n"
     ]
    },
    {
     "ename": "TypeError",
     "evalue": "not all arguments converted during string formatting",
     "output_type": "error",
     "traceback": [
      "\u001b[1;31m---------------------------------------------------------------------------\u001b[0m",
      "\u001b[1;31mTypeError\u001b[0m                                 Traceback (most recent call last)",
      "\u001b[1;32m<ipython-input-8-3ed1365d8bf5>\u001b[0m in \u001b[0;36m<module>\u001b[1;34m\u001b[0m\n\u001b[0;32m      1\u001b[0m \u001b[0mnum\u001b[0m \u001b[1;33m=\u001b[0m \u001b[0minput\u001b[0m\u001b[1;33m(\u001b[0m\u001b[1;33m)\u001b[0m\u001b[1;33m\u001b[0m\u001b[1;33m\u001b[0m\u001b[0m\n\u001b[1;32m----> 2\u001b[1;33m \u001b[1;32mif\u001b[0m \u001b[0mnum\u001b[0m\u001b[1;33m%\u001b[0m\u001b[1;36m2\u001b[0m\u001b[1;33m==\u001b[0m\u001b[1;36m0\u001b[0m\u001b[1;33m:\u001b[0m\u001b[1;33m\u001b[0m\u001b[1;33m\u001b[0m\u001b[0m\n\u001b[0m\u001b[0;32m      3\u001b[0m     \u001b[0mprint\u001b[0m\u001b[1;33m(\u001b[0m\u001b[1;34m\"It is even\"\u001b[0m\u001b[1;33m)\u001b[0m\u001b[1;33m\u001b[0m\u001b[1;33m\u001b[0m\u001b[0m\n\u001b[0;32m      4\u001b[0m \u001b[1;32melse\u001b[0m\u001b[1;33m:\u001b[0m\u001b[1;33m\u001b[0m\u001b[1;33m\u001b[0m\u001b[0m\n\u001b[0;32m      5\u001b[0m     \u001b[0mprint\u001b[0m\u001b[1;33m(\u001b[0m\u001b[1;34m\"It is odd\"\u001b[0m\u001b[1;33m)\u001b[0m\u001b[1;33m\u001b[0m\u001b[1;33m\u001b[0m\u001b[0m\n",
      "\u001b[1;31mTypeError\u001b[0m: not all arguments converted during string formatting"
     ]
    }
   ],
   "source": [
    "num = input()\n",
    "if num%2==0:\n",
    "    print(\"It is even\")\n",
    "else:\n",
    "    print(\"It is odd\")"
   ]
  },
  {
   "cell_type": "code",
   "execution_count": 9,
   "metadata": {},
   "outputs": [
    {
     "data": {
      "text/plain": [
       "str"
      ]
     },
     "execution_count": 9,
     "metadata": {},
     "output_type": "execute_result"
    }
   ],
   "source": [
    "type(num)"
   ]
  },
  {
   "cell_type": "code",
   "execution_count": 10,
   "metadata": {},
   "outputs": [
    {
     "name": "stdout",
     "output_type": "stream",
     "text": [
      "5\n",
      "Number is odd\n"
     ]
    }
   ],
   "source": [
    "num = int(input())  # Now we are changing the the type from string to integer\n",
    "if num%2==0:\n",
    "    print(\"Number is even\")\n",
    "else:\n",
    "    print(\"Number is odd\")"
   ]
  },
  {
   "cell_type": "markdown",
   "metadata": {},
   "source": [
    "# Second question is : We have  take a number from user and by using if else condition we have decide this number is greater than 10 or not."
   ]
  },
  {
   "cell_type": "code",
   "execution_count": 4,
   "metadata": {},
   "outputs": [
    {
     "name": "stdout",
     "output_type": "stream",
     "text": [
      "Enter the number 4\n",
      "The number is smaller than 10\n"
     ]
    }
   ],
   "source": [
    "num1 = int(input(\"Enter the number \")) # We can give a prompt by giving a statement as a argument in input function\n",
    "if num1>10:\n",
    "    print(\"The number is greater than 10\")\n",
    "else:\n",
    "    print(\"The number is smaller than 10\")"
   ]
  },
  {
   "cell_type": "markdown",
   "metadata": {},
   "source": [
    "## Question number 3 : We have to take a string from user and check if length of string is greater than 5 then print it is greater than 5 and if it is smaller than 5 then print it is smaller than 5"
   ]
  },
  {
   "cell_type": "code",
   "execution_count": 5,
   "metadata": {},
   "outputs": [
    {
     "name": "stdout",
     "output_type": "stream",
     "text": [
      "Enter your string 4\n",
      "It is smaller than 5\n"
     ]
    }
   ],
   "source": [
    "str1=input(\"Enter your string \")\n",
    "if len(str1)>5:\n",
    "    print(\"The length of string is greater than 5 \")\n",
    "elif len(str1)==5:\n",
    "    print(\"The length of string is equal to 5\")\n",
    "else:\n",
    "    print(\"It is smaller than 5\")"
   ]
  },
  {
   "cell_type": "markdown",
   "metadata": {},
   "source": [
    "## Question number 4 : Now we have to check number is positive , negative or if it zero print that it is zero"
   ]
  },
  {
   "cell_type": "code",
   "execution_count": 6,
   "metadata": {},
   "outputs": [
    {
     "name": "stdout",
     "output_type": "stream",
     "text": [
      "Enter a number 1\n",
      "It is a Positive number\n"
     ]
    }
   ],
   "source": [
    "var1 = int(input(\"Enter a number \"))\n",
    "if var1 >0:\n",
    "    print(\"It is a Positive number\")\n",
    "elif var< 0:\n",
    "    print(\"It is a Negative Number \")\n",
    "else:\n",
    "    print(\"It is equal to zero\")"
   ]
  },
  {
   "cell_type": "markdown",
   "metadata": {},
   "source": [
    "##  Question number 5 :We have to give a number from input function and check it negative or positive but if it is positive number then we have to check that the number is two digit number or it is one digit number "
   ]
  },
  {
   "cell_type": "code",
   "execution_count": 11,
   "metadata": {},
   "outputs": [
    {
     "name": "stdout",
     "output_type": "stream",
     "text": [
      "Enter the number 23\n",
      "It is a positive number \n",
      "2 Digit number\n"
     ]
    }
   ],
   "source": [
    "c=int(input(\"Enter the number \"))\n",
    "if c <0:\n",
    "    print(\"The number is Negative\")\n",
    "else:\n",
    "    print(\"It is a positive number \")\n",
    "    if len(str(c))>2:\n",
    "        print(\"3 or more digit numbe\")\n",
    "    elif len(str(c))==2:\n",
    "        print(\"2 Digit number\")\n",
    "    else:\n",
    "        print(\"1 digit number\")\n",
    "        \n"
   ]
  },
  {
   "cell_type": "code",
   "execution_count": null,
   "metadata": {},
   "outputs": [],
   "source": []
  }
 ],
 "metadata": {
  "kernelspec": {
   "display_name": "Python 3",
   "language": "python",
   "name": "python3"
  },
  "language_info": {
   "codemirror_mode": {
    "name": "ipython",
    "version": 3
   },
   "file_extension": ".py",
   "mimetype": "text/x-python",
   "name": "python",
   "nbconvert_exporter": "python",
   "pygments_lexer": "ipython3",
   "version": "3.7.6"
  }
 },
 "nbformat": 4,
 "nbformat_minor": 4
}
