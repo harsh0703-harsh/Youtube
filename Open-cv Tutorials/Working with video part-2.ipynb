{
 "cells": [
  {
   "cell_type": "code",
   "execution_count": 1,
   "metadata": {},
   "outputs": [],
   "source": [
    "import cv2"
   ]
  },
  {
   "cell_type": "markdown",
   "metadata": {},
   "source": [
    "# Saving Live Video from webcam "
   ]
  },
  {
   "cell_type": "code",
   "execution_count": null,
   "metadata": {},
   "outputs": [],
   "source": [
    "import cv2\n",
    " \n",
    "video = cv2.VideoCapture(0)\n",
    "#VideoWriter_fourcc(*'MJPG')` for MJPG\n",
    "# To save a video in OpenCV cv. VideoWriter() method is used.\n",
    "fourcc = cv2.VideoWriter_fourcc('X','V','I','D')\n",
    "videoWriter = cv2.VideoWriter('video.avi', fourcc, 30.0, (640,480))\n",
    " \n",
    "while (True):\n",
    " \n",
    "    ret, frame = video.read()\n",
    "     \n",
    "    if ret==True:\n",
    "        cv2.imshow('video', frame)\n",
    "        videoWriter.write(frame)\n",
    " \n",
    "    if cv2.waitKey(1) == 27:\n",
    "        break\n",
    "video.release()\n",
    "videoWriter.release()\n",
    " \n",
    "cv2.destroyAllWindows()"
   ]
  },
  {
   "cell_type": "markdown",
   "metadata": {},
   "source": [
    "# Save Frames from Webcam"
   ]
  },
  {
   "cell_type": "code",
   "execution_count": null,
   "metadata": {},
   "outputs": [],
   "source": [
    "import os\n",
    "import cv2\n",
    "video=cv2.VideoCapture(0)\n",
    "while True:\n",
    "    ret,frame=video.read()\n",
    "    if ret==True:\n",
    "        cv2.imshow(\"Saving images\",frame)\n",
    "        if not os.path.exists(\"images\"):\n",
    "            os.makedirs(\"images\")\n",
    "        for i in range(0,15):\n",
    "            cv2.imwrite(\"images/harsh_{}.jpeg\".format(i),frame)\n",
    "        if cv2.waitKey(1):\n",
    "            break\n",
    "video.release()\n",
    "cv2.destroyAllWindows()"
   ]
  },
  {
   "cell_type": "code",
   "execution_count": 2,
   "metadata": {},
   "outputs": [],
   "source": [
    "import os"
   ]
  },
  {
   "cell_type": "code",
   "execution_count": null,
   "metadata": {},
   "outputs": [],
   "source": []
  }
 ],
 "metadata": {
  "kernelspec": {
   "display_name": "Python 3",
   "language": "python",
   "name": "python3"
  },
  "language_info": {
   "codemirror_mode": {
    "name": "ipython",
    "version": 3
   },
   "file_extension": ".py",
   "mimetype": "text/x-python",
   "name": "python",
   "nbconvert_exporter": "python",
   "pygments_lexer": "ipython3",
   "version": "3.8.5"
  }
 },
 "nbformat": 4,
 "nbformat_minor": 4
}
