{
 "cells": [
  {
   "cell_type": "code",
   "execution_count": 18,
   "metadata": {},
   "outputs": [],
   "source": [
    "import cv2 \n",
    "import time \n",
    "  \n",
    "video = cv2.VideoCapture(0) \n",
    "first_frame = 0\n",
    "next_frame = 0\n",
    "\n",
    "while(True): \n",
    "    ret, frame = video.read() \n",
    "    if ret==True:\n",
    "        next_frame = time.time() \n",
    "        fps =int(1/(next_frame-first_frame))\n",
    "        first_frame = next_frame \n",
    "        cv2.putText(frame, str(fps), (10, 150),cv2.FONT_HERSHEY_SCRIPT_SIMPLEX, 3, (66, 135, 245), 3, cv2.LINE_AA) \n",
    "        cv2.imshow('frame', frame) \n",
    "        if cv2.waitKey(1) & 0xFF == ord('q'): \n",
    "            break\n",
    "    else:\n",
    "        break\n",
    "video.release() \n",
    "cv2.destroyAllWindows()"
   ]
  },
  {
   "cell_type": "code",
   "execution_count": null,
   "metadata": {},
   "outputs": [],
   "source": []
  }
 ],
 "metadata": {
  "kernelspec": {
   "display_name": "Python 3",
   "language": "python",
   "name": "python3"
  },
  "language_info": {
   "codemirror_mode": {
    "name": "ipython",
    "version": 3
   },
   "file_extension": ".py",
   "mimetype": "text/x-python",
   "name": "python",
   "nbconvert_exporter": "python",
   "pygments_lexer": "ipython3",
   "version": "3.8.5"
  }
 },
 "nbformat": 4,
 "nbformat_minor": 4
}
