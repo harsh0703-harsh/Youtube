{
 "cells": [
  {
   "cell_type": "markdown",
   "metadata": {},
   "source": [
    "# Showing FPS (Frames per second) in Live video"
   ]
  },
  {
   "cell_type": "code",
   "execution_count": 2,
   "metadata": {},
   "outputs": [],
   "source": [
    "import cv2\n",
    "import time\n",
    "\n",
    "video=cv2.VideoCapture(0)\n",
    "first_frame=0\n",
    "next_frame=0\n",
    "\n",
    "while True:\n",
    "    ret,frame=video.read()\n",
    "    if ret==True:\n",
    "        next_frame=time.time()\n",
    "        fps=int(1/(next_frame-first_frame))\n",
    "        first_frame=next_frame\n",
    "        cv2.putText(frame,str(fps),(10,150),cv2.FONT_HERSHEY_PLAIN,3,(66,135,245),3,cv2.LINE_AA)\n",
    "        cv2.imshow(\"Frames\",frame)\n",
    "        if cv2.waitKey(1)==27:\n",
    "            break\n",
    "video.release()\n",
    "cv2.destroyAllWindows()"
   ]
  },
  {
   "cell_type": "markdown",
   "metadata": {},
   "source": [
    "# Showing FPS on local directory video"
   ]
  },
  {
   "cell_type": "code",
   "execution_count": null,
   "metadata": {},
   "outputs": [],
   "source": [
    "import cv2\n",
    "import time\n",
    "\n",
    "video=cv2.VideoCapture(\"road_traffic.mp4\")\n",
    "first_frame=0\n",
    "next_frame=0\n",
    "\n",
    "while True:\n",
    "    ret,frame=video.read()\n",
    "    if ret==True:\n",
    "        next_frame=time.time()\n",
    "        fps=int(1/(next_frame-first_frame))\n",
    "        first_frame=next_frame\n",
    "        cv2.putText(frame,str(fps),(10,150),cv2.FONT_HERSHEY_PLAIN,3,(66,135,245),3,cv2.LINE_AA)\n",
    "        cv2.imshow(\"Frames\",frame)\n",
    "        if cv2.waitKey(1)==27:\n",
    "            break\n",
    "video.release()\n",
    "cv2.destroyAllWindows()"
   ]
  },
  {
   "cell_type": "code",
   "execution_count": null,
   "metadata": {},
   "outputs": [],
   "source": []
  }
 ],
 "metadata": {
  "kernelspec": {
   "display_name": "Python 3",
   "language": "python",
   "name": "python3"
  },
  "language_info": {
   "codemirror_mode": {
    "name": "ipython",
    "version": 3
   },
   "file_extension": ".py",
   "mimetype": "text/x-python",
   "name": "python",
   "nbconvert_exporter": "python",
   "pygments_lexer": "ipython3",
   "version": "3.8.5"
  }
 },
 "nbformat": 4,
 "nbformat_minor": 4
}
